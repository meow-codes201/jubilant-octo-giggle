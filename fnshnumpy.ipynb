{
  "nbformat": 4,
  "nbformat_minor": 0,
  "metadata": {
    "colab": {
      "provenance": [],
      "authorship_tag": "ABX9TyPGSCD6OchMWc/mxhni4ZwA",
      "include_colab_link": true
    },
    "kernelspec": {
      "name": "python3",
      "display_name": "Python 3"
    },
    "language_info": {
      "name": "python"
    }
  },
  "cells": [
    {
      "cell_type": "markdown",
      "metadata": {
        "id": "view-in-github",
        "colab_type": "text"
      },
      "source": [
        "<a href=\"https://colab.research.google.com/github/meow-codes201/jubilant-octo-giggle/blob/main/fnshnumpy.ipynb\" target=\"_parent\"><img src=\"https://colab.research.google.com/assets/colab-badge.svg\" alt=\"Open In Colab\"/></a>"
      ]
    },
    {
      "cell_type": "code",
      "execution_count": 3,
      "metadata": {
        "colab": {
          "base_uri": "https://localhost:8080/"
        },
        "id": "Oui2cbh_KevD",
        "outputId": "3526770b-1198-42fd-c84d-36643c670c59"
      },
      "outputs": [
        {
          "output_type": "execute_result",
          "data": {
            "text/plain": [
              "33.82"
            ]
          },
          "metadata": {},
          "execution_count": 3
        }
      ],
      "source": [
        "temp = [32.5,31.8,33.0,35.2,36.6]\n",
        "total = sum(temp)\n",
        "avg = total/len(temp)\n",
        "avg"
      ]
    },
    {
      "cell_type": "code",
      "source": [
        "import numpy as np\n",
        "temp = np.array([32.5,31.8,33.0,35.2,36.6])\n",
        "avg = np.mean(temp)\n",
        "avg"
      ],
      "metadata": {
        "colab": {
          "base_uri": "https://localhost:8080/"
        },
        "id": "PRvD3Qv1LEN8",
        "outputId": "7f5a5c7d-7175-4a5f-8692-83e051357860"
      },
      "execution_count": 4,
      "outputs": [
        {
          "output_type": "execute_result",
          "data": {
            "text/plain": [
              "np.float64(33.82)"
            ]
          },
          "metadata": {},
          "execution_count": 4
        }
      ]
    },
    {
      "cell_type": "code",
      "source": [],
      "metadata": {
        "id": "fcmq_q7IeUu3"
      },
      "execution_count": null,
      "outputs": []
    }
  ]
}